{
 "cells": [
  {
   "cell_type": "code",
   "execution_count": null,
   "metadata": {
    "vscode": {
     "languageId": "plaintext"
    }
   },
   "outputs": [],
   "source": [
    "# dbutils.fs.mount(\n",
    "#    source='wasbs://bronze@dngptmstorage.blob.core.windows.net/',\n",
    "#    mount_point='/mnt/bronze',\n",
    "#    extra_configs = {'fs.azure.account.key.dngptmstorage.blob.core.windows.net': dbutils.secrets.get(scope=\"databricksScope\", key=\"storageAccountKey\")}\n",
    "# )\n",
    "# dbutils.fs.mount(\n",
    "#    source='wasbs://silver@dngptmstorage.blob.core.windows.net/',\n",
    "#    mount_point='/mnt/silver',\n",
    "#    extra_configs = {'fs.azure.account.key.dngptmstorage.blob.core.windows.net': dbutils.secrets.get(scope=\"databricksScope\", key=\"storageAccountKey\")}\n",
    "# )\n",
    "dbutils.fs.mount(\n",
    "   source='wasbs://gold@dngptmstorage.blob.core.windows.net/',\n",
    "   mount_point='/mnt/gold',\n",
    "   extra_configs = {'fs.azure.account.key.dngptmstorage.blob.core.windows.net': dbutils.secrets.get(scope=\"databricksScope\", key=\"storageAccountKey\")}\n",
    ")"
   ]
  },
  {
   "cell_type": "code",
   "execution_count": null,
   "metadata": {
    "vscode": {
     "languageId": "plaintext"
    }
   },
   "outputs": [],
   "source": [
    "#dbutils.fs.ls(\"/mnt/gold\")\n",
    "# [FileInfo(path='dbfs:/mnt/bronze/20253123/', name='20253123/', size=0, modificationTime=0)]\n"
   ]
  },
  {
   "cell_type": "code",
   "execution_count": null,
   "metadata": {
    "vscode": {
     "languageId": "plaintext"
    }
   },
   "outputs": [],
   "source": [
    "fileName = dbutils.widgets.get('fileName')\n",
    "tableSchema = dbutils.widgets.get('table_schema')\n",
    "tableName = dbutils.widgets.get('table_name')\n",
    "\n",
    "#create database if it doesnt exist\n",
    "spark.sql(f\"create database if not exists {tableSchema}\")\n",
    "\n",
    "#if the table is not existing on the database, create it \n",
    "spark.sql(\"\"\"CREATE TABLE IF NOT EXISTS \"\"\"+tableSchema+\"\"\".\"\"\"+tableName+\"\"\"\n",
    "                USING PARQUET \n",
    "                LOCATION '/mnt/bronze/\"\"\"+fileName+\"\"\"/\"\"\"+tableSchema+\"\"\".\"\"\"+tableName+\"\"\".parquet'\n",
    "        \"\"\")"
   ]
  }
 ],
 "metadata": {
  "language_info": {
   "name": "python"
  }
 },
 "nbformat": 4,
 "nbformat_minor": 2
}
